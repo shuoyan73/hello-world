{
 "cells": [
  {
   "cell_type": "markdown",
   "metadata": {},
   "source": [
    "# Heap sort \n",
    "（製造成max heap 讓陣列由小到大排序）->\n",
    "概念如下：\n",
    "第一步是將陣列排序到完全二元樹裡面,因為要製造max heap所以\n",
    "    第二步是將每一個樹裡面左子樹和右子樹和該數的root比較,如果左子樹有大於該root的話,則左子樹換到root（因為要滿足父節點大於子節點的條件）,同理,如果右節點也大於root的話,那麼就將右子樹也換到root,然後再繼續向下處理,最後排序成一個max heap。 \n",
    "接下來,把位在i=0（整個完全二元樹的root的節點移除並且將整個完全二元樹的最後一個節點的數字換到第一個節點（i=0)的位置,\n",
    "    然後,再持續利用原本的左子樹與右子樹和父節點比較的方式,將第二大的數字再移到整個完全二元樹的父節點的位置,依此類推,完成整個陣列有小到大的排序。\n",
    "\n",
    "\n"
   ]
  },
  {
   "cell_type": "markdown",
   "metadata": {},
   "source": [
    "由於定義right為arr[2*i+2]可能會超出list範圍,所以改成定義成index\n",
    "我的想法是 先對所有的數字做heapify,再將index[0]的數字和index[最後]交換,接著在將剩下的二元樹進行heapify"
   ]
  },
  {
   "cell_type": "markdown",
   "metadata": {},
   "source": [
    "先定義一個heapify的函數,顧名思義就是讓heap的父節點跟子節點比較,如果左子節點或著右子節點比父節點來的大的時候,將該節點和父節點交換。"
   ]
  },
  {
   "cell_type": "code",
   "execution_count": 1,
   "metadata": {},
   "outputs": [
    {
     "ename": "SyntaxError",
     "evalue": "invalid syntax (<ipython-input-1-3b1a5e27a38f>, line 3)",
     "output_type": "error",
     "traceback": [
      "\u001b[0;36m  File \u001b[0;32m\"<ipython-input-1-3b1a5e27a38f>\"\u001b[0;36m, line \u001b[0;32m3\u001b[0m\n\u001b[0;31m    root_large=\u001b[0m\n\u001b[0m               ^\u001b[0m\n\u001b[0;31mSyntaxError\u001b[0m\u001b[0;31m:\u001b[0m invalid syntax\n"
     ]
    }
   ],
   "source": [
    "def Heapify(arr):\n",
    "    for i in range(0,len(arr),1):\n",
    "        root_large=\n",
    "        left=2*i+1\n",
    "        right=2*i+2\n",
    "        if left<len(arr) and left>root_large:\n",
    "            root_large=left\n",
    "        if right<len(arr) and right>root_large:\n",
    "            root_large=right"
   ]
  },
  {
   "cell_type": "code",
   "execution_count": null,
   "metadata": {},
   "outputs": [],
   "source": [
    "k=[2,5,3,6,7,3,4,2,1,9]"
   ]
  },
  {
   "cell_type": "markdown",
   "metadata": {},
   "source": [
    "我的想法是從陣列的最後一個節點執行heapify到第一個節點，製造maxheap"
   ]
  },
  {
   "cell_type": "code",
   "execution_count": 2,
   "metadata": {},
   "outputs": [
    {
     "ename": "SyntaxError",
     "evalue": "unexpected EOF while parsing (<ipython-input-2-4d80c8e53396>, line 23)",
     "output_type": "error",
     "traceback": [
      "\u001b[0;36m  File \u001b[0;32m\"<ipython-input-2-4d80c8e53396>\"\u001b[0;36m, line \u001b[0;32m23\u001b[0m\n\u001b[0;31m    \u001b[0m\n\u001b[0m    ^\u001b[0m\n\u001b[0;31mSyntaxError\u001b[0m\u001b[0;31m:\u001b[0m unexpected EOF while parsing\n"
     ]
    }
   ],
   "source": [
    "def heapify(A):\n",
    "    \n",
    "    for i in range (len(A)-1,-1,-1):#從9執行到1\n",
    "        root=A[i]        \n",
    "        l=2*i+1        \n",
    "        r=2*i+2\n",
    "        if l<len(A) and A[l]>A[i]:\n",
    "            k=A[l]\n",
    "            A[l]=A[i]\n",
    "            A[i]=k\n",
    "            \n",
    "        if r<len(A) and A[r]>A[i]:\n",
    "            k=A[r]\n",
    "            A[r]=A[i]\n",
    "            A[i]=k \n",
    "        if A[i]!=root:\n",
    "            heapify(A)           \n",
    "    return A\n",
    "def heapsort(A):\n",
    "    \n",
    "    \n",
    "    \n",
    "    "
   ]
  },
  {
   "cell_type": "code",
   "execution_count": null,
   "metadata": {},
   "outputs": [],
   "source": [
    "假定一個Ａ陣列測試看看這個heapify的結果是什麼"
   ]
  },
  {
   "cell_type": "code",
   "execution_count": null,
   "metadata": {},
   "outputs": [],
   "source": [
    "A=[3,4,9,2,7,1,6,5,8]"
   ]
  },
  {
   "cell_type": "code",
   "execution_count": null,
   "metadata": {},
   "outputs": [],
   "source": [
    "hp=heapify"
   ]
  },
  {
   "cell_type": "code",
   "execution_count": null,
   "metadata": {},
   "outputs": [],
   "source": [
    "hp(A)"
   ]
  },
  {
   "cell_type": "code",
   "execution_count": null,
   "metadata": {},
   "outputs": [],
   "source": [
    "結果發現,heapify後沒有每個父節點都大於子節點,所以應該要在增設一個條件,如果,i換成別的那麼要在執行一次heapify"
   ]
  },
  {
   "cell_type": "code",
   "execution_count": null,
   "metadata": {},
   "outputs": [],
   "source": [
    "這裏就是heapsort的部分了：\n",
    "\n",
    "我的想法是heapify之後要將index為0的節點和 最後一個節點交換,因為要排序成一個由小到大的陣列,所以要把heapify\n",
    "過所形成的maxheap,index0的節點拉到陣列的最後面。將index0和最後一個節點位置互換之後,要再重新heapify一次,\n",
    "因為已經不合maxheap的條件了。\n",
    "所以,"
   ]
  },
  {
   "cell_type": "code",
   "execution_count": null,
   "metadata": {},
   "outputs": [],
   "source": [
    "從第０個執行到len(num)-i-1個 因為當第一次heapify 結束之後會將最後節點和第一節點互換,然後第一個節點的位置就已經\n",
    "固定在最後一個了,然後互換完之後又要再做一次heapify,但是這時候就不用動到最後一個節點,所以我這邊設的len(arr)-i-1\n",
    "就是每次heapify 結束後,就會將第一個和最後一個節點互換,然後要在執行第二次heapify的時候就i=1(len(arr)-1-1)\n",
    "執行到倒數第一個，試試看這樣可否"
   ]
  },
  {
   "cell_type": "code",
   "execution_count": null,
   "metadata": {},
   "outputs": [],
   "source": [
    "class Solution(object):     \n",
    "    def heap_sort(self,num:int):\n",
    "        \n",
    "        for i in range(0,len(num)-1,1):\n",
    "            for i in range (0,len(num)-i-1,1):\n",
    "                root=num[i]\n",
    "                l=2*i+1\n",
    "                r=2*i+2\n",
    "                \n",
    "                if l<len(num) and num[l]>num[i]:\n",
    "                    k=num[l]\n",
    "                    num[l]=num[i]\n",
    "                    num[i]=k\n",
    "            \n",
    "            \n",
    "                if r<len(num) and num[r]>num[i]:\n",
    "                    k=num[r]\n",
    "                    num[r]=num[i]\n",
    "                    num[i]=k \n",
    "                if num[i]!=root:\n",
    "                    heap_sort(num)\n",
    "                \n",
    "                k=num[len(num)-1]\n",
    "                num[len(num)-1]=num[0]\n",
    "                num[0]=k\n",
    "        return num        \n",
    "        \n",
    "         \n",
    "        "
   ]
  },
  {
   "cell_type": "code",
   "execution_count": null,
   "metadata": {},
   "outputs": [],
   "source": [
    "num=[4,-2,-4,3,5,1,7,3,-8]"
   ]
  },
  {
   "cell_type": "code",
   "execution_count": null,
   "metadata": {},
   "outputs": [],
   "source": [
    "執行後出現錯誤,指出在for迴圈的地方,因為i為區域變數"
   ]
  },
  {
   "cell_type": "code",
   "execution_count": null,
   "metadata": {},
   "outputs": [],
   "source": [
    "Solution().heap_sort(num)"
   ]
  },
  {
   "cell_type": "code",
   "execution_count": null,
   "metadata": {},
   "outputs": [],
   "source": [
    "class Solution(object):     \n",
    "    def heap_sort(self,num:int):\n",
    "        \n",
    "        for i in range(0,len(num)-1,1):\n",
    "            for i in range (0,len(num)-i-1,1):\n",
    "                root=num[i]\n",
    "                l=2*i+1\n",
    "                r=2*i+2\n",
    "                \n",
    "                if l<len(num) and num[l]>num[i]:\n",
    "                    k=num[l]\n",
    "                    num[l]=num[i]\n",
    "                    num[i]=k\n",
    "            \n",
    "            \n",
    "                if r<len(num) and num[r]>num[i]:\n",
    "                    k=num[r]\n",
    "                    num[r]=num[i]\n",
    "                    num[i]=k \n",
    "                if num[i]!=root:\n",
    "                    heap_sort(self,num)\n",
    "                \n",
    "                k=num[len(num)-1]\n",
    "                num[len(num)-1]=num[0]\n",
    "                num[0]=k\n",
    "        return num      "
   ]
  },
  {
   "cell_type": "code",
   "execution_count": null,
   "metadata": {},
   "outputs": [],
   "source": [
    "出現錯誤,heap_sort無法在運行時使用所以我覺得應該要將heapify先寫出來,在利用heap＿sort,去呼叫heapify\n",
    "所以我改寫heap_sort了,現在我要做的是將做完的maxheap的父節點index0跟最後一個節點交換位置index(len(num)-1)\n",
    "目前寫的邏輯是：\n",
    "從第0個執行到第(num長度-1)次,每次將heap第0個節點匯入到m當中,然後再將最後一個節點匯入到第0個位置,\n",
    "再將剛剛匯入到m的第0個節點的值拉出來放到最後一個位置,最後要將長度扣掉1,因為當我把maxheap裡面最大值放到最後一個節點的時候，\n",
    "該節點也等於排序完成。"
   ]
  },
  {
   "cell_type": "code",
   "execution_count": null,
   "metadata": {},
   "outputs": [],
   "source": [
    "when you first time run this loop use len(nums) to be the first L after that minus one each time"
   ]
  },
  {
   "cell_type": "code",
   "execution_count": null,
   "metadata": {},
   "outputs": [],
   "source": [
    "class Solution(object):\n",
    "   \n",
    "    def heapify(self,nums):\n",
    "        if not nums:\n",
    "            return none\n",
    "        else:\n",
    "            L=len(nums)#the length of the list \n",
    "            L-=1\n",
    "            for j in range(0,2,1):#2 times heapify\n",
    "                for i in range(0,L,1):# i=0,1,2,...,L-1\n",
    "                    root=i          \n",
    "                    l=2*i+1\n",
    "                    r=2*i+2    \n",
    "                    if l<L and nums[l]>nums[i]:\n",
    "                        P=nums[root]\n",
    "                        nums[root]=nums[l]\n",
    "                        nums[l]=P\n",
    "                    if r<L and nums[r]>nums[i]:\n",
    "                        Q=nums[root]\n",
    "                        nums[root]=nums[r]\n",
    "                        nums[r]=Q\n",
    "            #update new list length by  minus one each time \n",
    "            print(nums) #print the list after heapify twice \n",
    "    def  heap_sort(self,nums):\n",
    "        L=len(nums)\n",
    "                             \n",
    "        for k in range(0,L,1):       #k=0,1,...,L-1\n",
    "            self.heapify(nums)   #heapify and print the list after heapify twice\n",
    "            print(k)     # print k each time in order to see the changes\n",
    "            if len(nums)<0:\n",
    "                return nums[0] \n",
    "            else:\n",
    "                print('heapify結束要swap:'+'nums')\n",
    "                print(nums)\n",
    "                        #k=0 L=L/k=1 L=L-1 / k=2 L=L-2/..\n",
    "                m=nums[0]     #zero index value into m \n",
    "                nums[0]=nums[L-1]   #zero index=last index value\n",
    "                nums[L-1]=m#put zero index value into lastnode\n",
    "                print(nums)\n",
    "                print(L)#show len(nums)\n",
    "                "
   ]
  },
  {
   "cell_type": "code",
   "execution_count": null,
   "metadata": {},
   "outputs": [],
   "source": [
    "K=[2,-1,3,6,9,7,-3,-4,-6,4,1]"
   ]
  },
  {
   "cell_type": "code",
   "execution_count": null,
   "metadata": {},
   "outputs": [],
   "source": [
    "P=[2,3,1,6,-1]"
   ]
  },
  {
   "cell_type": "code",
   "execution_count": null,
   "metadata": {},
   "outputs": [],
   "source": [
    "S=Solution()"
   ]
  },
  {
   "cell_type": "code",
   "execution_count": null,
   "metadata": {},
   "outputs": [],
   "source": [
    "S.heap_sort(P)"
   ]
  },
  {
   "cell_type": "code",
   "execution_count": null,
   "metadata": {},
   "outputs": [],
   "source": []
  },
  {
   "cell_type": "code",
   "execution_count": null,
   "metadata": {},
   "outputs": [],
   "source": []
  },
  {
   "cell_type": "code",
   "execution_count": null,
   "metadata": {},
   "outputs": [],
   "source": []
  },
  {
   "cell_type": "code",
   "execution_count": null,
   "metadata": {},
   "outputs": [],
   "source": []
  }
 ],
 "metadata": {
  "kernelspec": {
   "display_name": "Python 3",
   "language": "python",
   "name": "python3"
  },
  "language_info": {
   "codemirror_mode": {
    "name": "ipython",
    "version": 3
   },
   "file_extension": ".py",
   "mimetype": "text/x-python",
   "name": "python",
   "nbconvert_exporter": "python",
   "pygments_lexer": "ipython3",
   "version": "3.7.0"
  }
 },
 "nbformat": 4,
 "nbformat_minor": 2
}
