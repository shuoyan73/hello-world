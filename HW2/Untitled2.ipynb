{
 "cells": [
  {
   "cell_type": "markdown",
   "metadata": {},
   "source": [
    "# Heap sort \n",
    "（製造成max heap 讓陣列由小到大排序）->\n",
    "概念如下：\n",
    "第一步是將陣列排序到完全二元樹裡面,因為要製造max heap所以\n",
    "    第二步是將每一個樹裡面左子樹和右子樹和該數的root比較,如果左子樹有大於該root的話,則左子樹換到root（因為要滿足父節點大於子節點的條件）,同理,如果右節點也大於root的話,那麼就將右子樹也換到root,然後再繼續向下處理,最後排序成一個max heap。 \n",
    "接下來,把位在i=0（整個完全二元樹的root的節點移除並且將整個完全二元樹的最後一個節點的數字換到第一個節點（i=0)的位置,\n",
    "    然後,再持續利用原本的左子樹與右子樹和父節點比較的方式,將第二大的數字再移到整個完全二元樹的父節點的位置,依此類推,完成整個陣列有小到大的排序。\n",
    "\n",
    "\n"
   ]
  },
  {
   "cell_type": "markdown",
   "metadata": {},
   "source": [
    "由於定義right為arr[2*i+2]可能會超出list範圍,所以改成定義成index\n",
    "我的想法是 先對所有的數字做heapify,再將index[0]的數字和index[最後]交換,接著在將剩下的二元樹進行heapify"
   ]
  },
  {
   "cell_type": "markdown",
   "metadata": {},
   "source": [
    "先定義一個heapify的函數,顧名思義就是讓heap的父節點跟子節點比較,如果左子節點或著右子節點比父節點來的大的時候,將該節點和父節點交換。"
   ]
  },
  {
   "cell_type": "code",
   "execution_count": 1,
   "metadata": {},
   "outputs": [
    {
     "ename": "SyntaxError",
     "evalue": "invalid syntax (<ipython-input-1-3b1a5e27a38f>, line 3)",
     "output_type": "error",
     "traceback": [
      "\u001b[0;36m  File \u001b[0;32m\"<ipython-input-1-3b1a5e27a38f>\"\u001b[0;36m, line \u001b[0;32m3\u001b[0m\n\u001b[0;31m    root_large=\u001b[0m\n\u001b[0m               ^\u001b[0m\n\u001b[0;31mSyntaxError\u001b[0m\u001b[0;31m:\u001b[0m invalid syntax\n"
     ]
    }
   ],
   "source": [
    "def Heapify(arr):\n",
    "    for i in range(0,len(arr),1):\n",
    "        root_large=\n",
    "        left=2*i+1\n",
    "        right=2*i+2\n",
    "        if left<len(arr) and left>root_large:\n",
    "            root_large=left\n",
    "        if right<len(arr) and right>root_large:\n",
    "            root_large=right"
   ]
  },
  {
   "cell_type": "code",
   "execution_count": null,
   "metadata": {},
   "outputs": [],
   "source": [
    "k=[2,5,3,6,7,3,4,2,1,9]"
   ]
  },
  {
   "cell_type": "markdown",
   "metadata": {},
   "source": [
    "我的想法是從陣列的最後一個節點執行heapify到第一個節點，製造maxheap"
   ]
  },
  {
   "cell_type": "code",
   "execution_count": 2,
   "metadata": {},
   "outputs": [
    {
     "ename": "SyntaxError",
     "evalue": "unexpected EOF while parsing (<ipython-input-2-4d80c8e53396>, line 23)",
     "output_type": "error",
     "traceback": [
      "\u001b[0;36m  File \u001b[0;32m\"<ipython-input-2-4d80c8e53396>\"\u001b[0;36m, line \u001b[0;32m23\u001b[0m\n\u001b[0;31m    \u001b[0m\n\u001b[0m    ^\u001b[0m\n\u001b[0;31mSyntaxError\u001b[0m\u001b[0;31m:\u001b[0m unexpected EOF while parsing\n"
     ]
    }
   ],
   "source": [
    "def heapify(A):\n",
    "    \n",
    "    for i in range (len(A)-1,-1,-1):#從9執行到1\n",
    "        root=A[i]        \n",
    "        l=2*i+1        \n",
    "        r=2*i+2\n",
    "        if l<len(A) and A[l]>A[i]:\n",
    "            k=A[l]\n",
    "            A[l]=A[i]\n",
    "            A[i]=k\n",
    "            \n",
    "        if r<len(A) and A[r]>A[i]:\n",
    "            k=A[r]\n",
    "            A[r]=A[i]\n",
    "            A[i]=k \n",
    "        if A[i]!=root:\n",
    "            heapify(A)           \n",
    "    return A\n",
    "def heapsort(A):\n",
    "    \n",
    "    \n",
    "    \n",
    "    "
   ]
  },
  {
   "cell_type": "code",
   "execution_count": null,
   "metadata": {},
   "outputs": [],
   "source": []
  },
  {
   "cell_type": "code",
   "execution_count": null,
   "metadata": {},
   "outputs": [],
   "source": []
  }
 ],
 "metadata": {
  "kernelspec": {
   "display_name": "Python 3",
   "language": "python",
   "name": "python3"
  },
  "language_info": {
   "codemirror_mode": {
    "name": "ipython",
    "version": 3
   },
   "file_extension": ".py",
   "mimetype": "text/x-python",
   "name": "python",
   "nbconvert_exporter": "python",
   "pygments_lexer": "ipython3",
   "version": "3.7.0"
  }
 },
 "nbformat": 4,
 "nbformat_minor": 2
}
